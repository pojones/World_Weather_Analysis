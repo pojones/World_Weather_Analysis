{
 "cells": [
  {
   "cell_type": "code",
   "execution_count": 3,
   "id": "5318f33c",
   "metadata": {},
   "outputs": [],
   "source": [
    "import pandas as pd\n",
    "import matplotlib.pyplot as plt\n",
    "import numpy as np\n",
    "# import dependencies"
   ]
  },
  {
   "cell_type": "code",
   "execution_count": 4,
   "id": "fb7e94ce",
   "metadata": {},
   "outputs": [
    {
     "data": {
      "text/plain": [
       "<zip at 0x2737ae6efc0>"
      ]
     },
     "execution_count": 4,
     "metadata": {},
     "output_type": "execute_result"
    }
   ],
   "source": [
    "## create a set of random latitude and longitude combinations\n",
    "\n",
    "lats = np.random.uniform(low=-90.000, high=90.000, size=1500)\n",
    "# create a floating point list of random latitudes\n",
    "lngs = np.random.uniform(low=-180.000, high=180.000, size=1500)\n",
    "# create a floating point list of random longitudes\n",
    "lat_lngs = zip(lats, lngs)\n",
    "# returns an object with both tuples paired together\n",
    "lat_lngs"
   ]
  },
  {
   "cell_type": "code",
   "execution_count": 6,
   "id": "4ec792fd",
   "metadata": {},
   "outputs": [],
   "source": [
    "coordinates = list(lat_lngs)\n",
    "# turn the 'lat_lngs' object into a list so that we can use it"
   ]
  },
  {
   "cell_type": "code",
   "execution_count": 7,
   "id": "59e49f31",
   "metadata": {},
   "outputs": [
    {
     "data": {
      "text/plain": [
       "609"
      ]
     },
     "execution_count": 7,
     "metadata": {},
     "output_type": "execute_result"
    }
   ],
   "source": [
    "## now we can use the citipy module to find the nearest cities to the random coordinates in our list\n",
    "\n",
    "from citipy import citipy\n",
    "# import citipy module\n",
    "\n",
    "cities = []\n",
    "# create a list for holding the cities\n",
    "\n",
    "# identify the nearest city for each latitude and longitude combination\n",
    "for coordinate in coordinates:\n",
    "    city = citipy.nearest_city(coordinate[0], coordinate[1]).city_name\n",
    "\n",
    "    # if the city is unique, then we will add it to the cities list\n",
    "    if city not in cities:\n",
    "        cities.append(city)\n",
    "    \n",
    "# print the city count to confirm sufficient count\n",
    "len(cities)"
   ]
  },
  {
   "cell_type": "code",
   "execution_count": null,
   "id": "673ca40c",
   "metadata": {},
   "outputs": [],
   "source": []
  }
 ],
 "metadata": {
  "kernelspec": {
   "display_name": "PythonData",
   "language": "python",
   "name": "pythondata"
  },
  "language_info": {
   "codemirror_mode": {
    "name": "ipython",
    "version": 3
   },
   "file_extension": ".py",
   "mimetype": "text/x-python",
   "name": "python",
   "nbconvert_exporter": "python",
   "pygments_lexer": "ipython3",
   "version": "3.9.12"
  }
 },
 "nbformat": 4,
 "nbformat_minor": 5
}
